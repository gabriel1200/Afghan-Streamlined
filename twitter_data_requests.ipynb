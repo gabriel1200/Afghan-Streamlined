{
 "cells": [
  {
   "cell_type": "code",
   "execution_count": null,
   "metadata": {},
   "outputs": [],
   "source": []
  },
  {
   "cell_type": "code",
   "execution_count": null,
   "metadata": {},
   "outputs": [],
   "source": [
    "import pandas as pd\n",
    "from datetime import datetime\n",
    "import pytz\n",
    "from pytz import timezone\n",
    "import re\n",
    "import csv\n",
    "import requests\n",
    "import json\n",
    "import time\n",
    "pd.set_option('display.float_format', lambda x: '%.3f' % x)"
   ]
  },
  {
   "cell_type": "code",
   "execution_count": 8,
   "metadata": {},
   "outputs": [],
   "source": [
    "#opening json file with stored credentials\n",
    "with open('creds.json') as f:\n",
    "    creds = json.load(f)"
   ]
  },
  {
   "cell_type": "code",
   "execution_count": 11,
   "metadata": {},
   "outputs": [],
   "source": [
    "payload = {}\n",
    "#loading in key values from the json needed to make the query\n",
    "headers = {\n",
    "      'Authorization': f\"Bearer {creds['bearer_token']}\",\n",
    "      'Cookie': f\"personalization_id={creds['personalization_id']}; guest_id={creds['guest_id']}\"\n",
    "    }\n",
    "\n",
    "base_url = f\"https://api.twitter.com/1.1/tweets/search/30day/dev.json?fromDate=202109040000&toDate=202110040000&query=point_radius:[-82.3666 23.1136 25mi] -is:retweet -is:reply OR profile_country:AF -is:reply -is:retweet profile_locality:Afghanistan\n",
    "'''the query for the data, collecting all tweets \n",
    "for the month of August, within 25 miles of Kabul \n",
    "with a derived location of Afghanistan'''\n",
    "\n",
    "count = 1\n",
    "check=True\n",
    "while check==True:\n",
    "    if count == 1:\n",
    "        url = base_url\n",
    "#using the base url for the first request\n",
    "    \n",
    "    else:\n",
    "        url = base_url + \"&next={0}\".format(next_page)\n",
    "#combining the base url and the url extension for a new auery   \n",
    "    \n",
    "    response = requests.request(\"GET\", url, headers=headers, data = payload)\n",
    "#retrieving the query data\n",
    "    \n",
    "    jsonfile_name = f'data/data{count}.json'\n",
    "    \n",
    "    d = json.loads(response.text)\n",
    "#loading in the json data\n",
    "    \n",
    "    if d['results']:\n",
    "        with open(jsonfile_name, 'w') as f:\n",
    "            json.dump(d, f)\n",
    "\n",
    "#loading the flattened json data into the file\n",
    "        next_page = d['next']\n",
    "\n",
    "#saving the url extension for the next page, used to create the query in the next iteration\n",
    "    elif d['error'] or len(d['next']) == 0:\n",
    "        print(d)\n",
    "        check==False\n",
    "        break\n",
    "        \n",
    "    count += 1\n",
    "    time.sleep(5)"
   ]
  },
  {
   "cell_type": "code",
   "execution_count": null,
   "metadata": {},
   "outputs": [],
   "source": []
  }
 ],
 "metadata": {
  "kernelspec": {
   "display_name": "Python 3",
   "language": "python",
   "name": "python3"
  },
  "language_info": {
   "codemirror_mode": {
    "name": "ipython",
    "version": 3
   },
   "file_extension": ".py",
   "mimetype": "text/x-python",
   "name": "python",
   "nbconvert_exporter": "python",
   "pygments_lexer": "ipython3",
   "version": "3.8.8"
  }
 },
 "nbformat": 4,
 "nbformat_minor": 4
}
