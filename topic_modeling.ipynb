{
 "cells": [
  {
   "cell_type": "code",
   "execution_count": 1,
   "id": "d2540ec8-073f-4468-a2d3-b6037cfbeff5",
   "metadata": {},
   "outputs": [
    {
     "ename": "ModuleNotFoundError",
     "evalue": "No module named 'watson_nlp'",
     "output_type": "error",
     "traceback": [
      "\u001b[1;31m---------------------------------------------------------------------------\u001b[0m",
      "\u001b[1;31mModuleNotFoundError\u001b[0m                       Traceback (most recent call last)",
      "\u001b[1;32m<ipython-input-1-25040226a75a>\u001b[0m in \u001b[0;36m<module>\u001b[1;34m\u001b[0m\n\u001b[0;32m      1\u001b[0m \u001b[1;32mfrom\u001b[0m \u001b[0mnltk\u001b[0m\u001b[1;33m.\u001b[0m\u001b[0mcorpus\u001b[0m \u001b[1;32mimport\u001b[0m \u001b[0mstopwords\u001b[0m\u001b[1;33m\u001b[0m\u001b[1;33m\u001b[0m\u001b[0m\n\u001b[1;32m----> 2\u001b[1;33m \u001b[1;32mimport\u001b[0m \u001b[0mwatson_nlp\u001b[0m\u001b[1;33m\u001b[0m\u001b[1;33m\u001b[0m\u001b[0m\n\u001b[0m\u001b[0;32m      3\u001b[0m \u001b[1;32mfrom\u001b[0m \u001b[0mwatson_core\u001b[0m \u001b[1;32mimport\u001b[0m \u001b[0mdata_model\u001b[0m \u001b[1;32mas\u001b[0m \u001b[0mdm\u001b[0m\u001b[1;33m\u001b[0m\u001b[1;33m\u001b[0m\u001b[0m\n\u001b[0;32m      4\u001b[0m \u001b[1;32mimport\u001b[0m \u001b[0mnltk\u001b[0m\u001b[1;33m\u001b[0m\u001b[1;33m\u001b[0m\u001b[0m\n\u001b[0;32m      5\u001b[0m \u001b[1;32mfrom\u001b[0m \u001b[0mnltk\u001b[0m\u001b[1;33m.\u001b[0m\u001b[0mcorpus\u001b[0m \u001b[1;32mimport\u001b[0m \u001b[0mstopwords\u001b[0m \u001b[1;32mas\u001b[0m \u001b[0msw\u001b[0m\u001b[1;33m\u001b[0m\u001b[1;33m\u001b[0m\u001b[0m\n",
      "\u001b[1;31mModuleNotFoundError\u001b[0m: No module named 'watson_nlp'"
     ]
    }
   ],
   "source": [
    "from nltk.corpus import stopwords\n",
    "import watson_nlp\n",
    "from watson_core import data_model as dm\n",
    "import nltk\n",
    "from nltk.corpus import stopwords as sw\n",
    "import glob\n",
    "import re\n",
    "import json\n",
    "import numpy as np\n",
    "import pandas as pd\n",
    "from pyspark.sql import SparkSession\n",
    "import os\n",
    "\n",
    "sw = stopwords.words('english')"
   ]
  },
  {
   "cell_type": "code",
   "execution_count": null,
   "id": "179a15e7-e99c-4bfb-b449-a54fcd55ee88",
   "metadata": {},
   "outputs": [],
   "source": [
    "filepath = \"data/afghan_small.csv\"\n",
    "data = pd.read_csv(filepath,low_memory=False)"
   ]
  },
  {
   "cell_type": "code",
   "execution_count": null,
   "id": "53dec0e9-aaaf-43c0-9422-6c0170023b4d",
   "metadata": {},
   "outputs": [],
   "source": [
    "data['text'] = data['text'].apply(lambda x: str(x).lower())"
   ]
  },
  {
   "cell_type": "code",
   "execution_count": null,
   "id": "9e2e8a84-fb80-439a-951d-2fa96a2a0071",
   "metadata": {},
   "outputs": [],
   "source": [
    "data['text'] = data['text'].apply(lambda x: re.sub(r'[^\\w\\s]','',str(x).lower()))"
   ]
  },
  {
   "cell_type": "code",
   "execution_count": null,
   "id": "6f1295d5-82cb-41d2-affe-f3d1e030ec49",
   "metadata": {},
   "outputs": [],
   "source": [
    "data.head()"
   ]
  },
  {
   "cell_type": "code",
   "execution_count": null,
   "id": "9fc2cb14-a026-4315-8729-c290a3d6a7a2",
   "metadata": {},
   "outputs": [],
   "source": [
    "def isEnglish(s):\n",
    "    try:\n",
    "        s.encode(encoding='utf-8').decode('ascii')\n",
    "        return True\n",
    "    except UnicodeDecodeError:\n",
    "        return False\n",
    "    else:\n",
    "        pass\n",
    "#checks if the text is in English"
   ]
  },
  {
   "cell_type": "code",
   "execution_count": null,
   "id": "70ece053-faa3-4125-bb41-f4a8605a3e1c",
   "metadata": {},
   "outputs": [],
   "source": [
    "count = 0\n",
    "eng_count = []\n",
    "for idx, row in data.iterrows():\n",
    "    eng_count.append(isEnglish(row['text'])) \n",
    "    if isEnglish(row['text']) == False:\n",
    "        count += 1\n",
    "#appends the result of isEnglish to a list and counts the number of English words per row"
   ]
  },
  {
   "cell_type": "code",
   "execution_count": null,
   "id": "3a0d3fb7-b33b-4526-9d2e-5d1ad496a620",
   "metadata": {},
   "outputs": [],
   "source": [
    "data['eng'] = eng_count\n",
    "# adds the result of isEnglish to a column in the dataframe, true if in English false otherwise"
   ]
  },
  {
   "cell_type": "code",
   "execution_count": null,
   "id": "be5f1cf3-7a22-4f8f-8e75-c704f8af996e",
   "metadata": {},
   "outputs": [],
   "source": [
    "data = data[(data['eng'] == True)]\n",
    "#filters out all tweets that aren't in English"
   ]
  },
  {
   "cell_type": "code",
   "execution_count": null,
   "id": "8ded3a85-6b0d-4477-a054-6a8591e0209d",
   "metadata": {},
   "outputs": [],
   "source": [
    "len(data['created_at'])"
   ]
  },
  {
   "cell_type": "code",
   "execution_count": null,
   "id": "1ac4bcba-1dd0-40ca-8723-6cb0d4dcc8c9",
   "metadata": {},
   "outputs": [],
   "source": [
    "from datetime import datetime\n",
    "\n",
    "new_datetime = datetime.strftime(datetime.strptime(data['created_at'][0],'%a %b %d %H:%M:%S +0000 %Y'), '%Y-%m-%d %H:%M:%S')\n",
    "# converts timestamp into UTC format"
   ]
  },
  {
   "cell_type": "code",
   "execution_count": null,
   "id": "dcffeeb4-dc04-45a2-8d45-c09ac7a0444c",
   "metadata": {},
   "outputs": [],
   "source": [
    "new_datetime"
   ]
  },
  {
   "cell_type": "code",
   "execution_count": null,
   "id": "bbe1bb4d-7ec5-48ea-b986-fb354f8a2739",
   "metadata": {},
   "outputs": [],
   "source": [
    "dt_list = []\n",
    "for i in data['created_at']:\n",
    "    try:\n",
    "        dt_list.append(datetime.strftime(datetime.strptime(i,'%a %b %d %H:%M:%S +0000 %Y'), '%Y-%m-%d %H:%M:%S'))\n",
    "    except:\n",
    "        dt_list.append(dt_list[0])\n",
    "    #creates a list with timestamps in the new format"
   ]
  },
  {
   "cell_type": "code",
   "execution_count": null,
   "id": "d58b9cd4-48ab-43f2-a730-405316f8e857",
   "metadata": {},
   "outputs": [],
   "source": [
    "data['created_at_datetime'] = dt_list\n",
    "#generates a new column in the dataframe identical to the list"
   ]
  },
  {
   "cell_type": "code",
   "execution_count": null,
   "id": "3f9f65d2-7d9d-4fa6-aa3a-4a2b281cd769",
   "metadata": {},
   "outputs": [],
   "source": [
    "data['created_at_datetime'] = pd.to_datetime(data['created_at_datetime'])\n",
    "#changes column to datetime format"
   ]
  },
  {
   "cell_type": "code",
   "execution_count": null,
   "id": "77b45b51-5475-4597-b744-1c6f61430a03",
   "metadata": {},
   "outputs": [],
   "source": [
    "data['created_at_datetime'] = data['created_at_datetime'].sort_values()\n",
    "#sorts the column by the day the tweet was sent/created"
   ]
  },
  {
   "cell_type": "code",
   "execution_count": null,
   "id": "4e46432f-776b-4712-81dd-8266a881b61e",
   "metadata": {},
   "outputs": [],
   "source": [
    "data = data.sort_values(by='created_at_datetime').reset_index()\n",
    "#orders entire dataframe according to the time in which the tweet was created"
   ]
  },
  {
   "cell_type": "code",
   "execution_count": null,
   "id": "92a07032-fec5-491c-a964-763de80d227b",
   "metadata": {},
   "outputs": [],
   "source": [
    "data.shape"
   ]
  },
  {
   "cell_type": "code",
   "execution_count": null,
   "id": "40d92e5f-17ca-481f-9861-728d273c9ec6",
   "metadata": {},
   "outputs": [],
   "source": [
    "u = data[\"created_at_datetime\"].map(lambda t: t.date()).unique()"
   ]
  },
  {
   "cell_type": "code",
   "execution_count": null,
   "id": "f2045d9a-7253-4c6f-8039-c76e08272c7f",
   "metadata": {},
   "outputs": [],
   "source": [
    "u"
   ]
  },
  {
   "cell_type": "code",
   "execution_count": null,
   "id": "dee52dcf-8725-4e20-a29a-027db44b9706",
   "metadata": {},
   "outputs": [],
   "source": [
    "type(u[0])"
   ]
  },
  {
   "cell_type": "code",
   "execution_count": null,
   "id": "0dacb234-7c21-4eea-98c6-3b3548d51d8f",
   "metadata": {},
   "outputs": [],
   "source": [
    "data['created_at_date'] = data['created_at_datetime'].apply(lambda x: x.date())"
   ]
  },
  {
   "cell_type": "code",
   "execution_count": null,
   "id": "dd303932-45fe-4c71-9890-1fb3911b9d02",
   "metadata": {},
   "outputs": [],
   "source": [
    "data['created_at_datetime'] = pd.to_datetime(data['created_at_datetime'])"
   ]
  },
  {
   "cell_type": "code",
   "execution_count": null,
   "id": "dc211899-2067-47a2-aa94-2fbaf954617f",
   "metadata": {},
   "outputs": [],
   "source": [
    "filter_mask = data['created_at_date'] == u[-1]\n",
    "filtered_df = data[filter_mask]"
   ]
  },
  {
   "cell_type": "code",
   "execution_count": null,
   "id": "95e9485f-3e70-4c64-906a-9ce4b57719ee",
   "metadata": {},
   "outputs": [],
   "source": [
    "filter_mask"
   ]
  },
  {
   "cell_type": "code",
   "execution_count": null,
   "id": "83871d32-dca5-4f8d-a04a-e9aa9f3dfe3c",
   "metadata": {},
   "outputs": [],
   "source": [
    "def rename_csv_filenames(output_file):\n",
    "    for filepath in glob.iglob(f'{output_file}/*.csv'):\n",
    "        os.rename(filepath ,output_file + '/' + 'docs.csv')"
   ]
  },
  {
   "cell_type": "code",
   "execution_count": null,
   "id": "76c39c4b-f038-4d1b-8dcb-6139b7b75037",
   "metadata": {},
   "outputs": [],
   "source": [
    "train_params = {\n",
    "    'min_words_per_utterance': 10,\n",
    "    'num_turns_to_remove': 0,\n",
    "    'beginning_ratio': 1,\n",
    "    'beginning_weighting_factor': 1,\n",
    "    'min_ngram_size': 4,\n",
    "    'max_ngram_size': 12,\n",
    "    'max_ngrams': 12,\n",
    "    'stopwords': list(sw) #nltk stopwords\n",
    "}\n",
    "#establishing the training paremeters"
   ]
  },
  {
   "cell_type": "code",
   "execution_count": null,
   "id": "61c40f48-698a-421a-b7b1-60f3710f2e7a",
   "metadata": {},
   "outputs": [],
   "source": [
    "train_params_hierarchical = {\n",
    "    'king_cluster_min_ratio': .2,\n",
    "    'min_records_per_king_cluster': 1000,\n",
    "    'num_topics_per_iteration': 10,\n",
    "    'max_num_iters_per_model': 10,\n",
    "    'min_word_support': 0.001,\n",
    "    'max_word_support': 0.7,\n",
    "    'max_ngrams_per_topic': 12,\n",
    "}\n",
    "#limits for said parameters"
   ]
  },
  {
   "cell_type": "code",
   "execution_count": null,
   "id": "09d1deb5-6a16-45a6-9ec3-5b6006681720",
   "metadata": {},
   "outputs": [],
   "source": [
    "output_file = 'out.csv'\n",
    "filename = \"data/spark_format.csv\"\n",
    "final_docs = 'out.csv/docs.csv'\n",
    "syntax_model = watson_nlp.load(watson_nlp.download('syntax_izumo_en_stock','matthew.huntebrinker@ibm.com','AKCp8ihpbQ2esQQLh1BpaZKFAgDpieBx2UzN674kreY4jnNMLCJXW5jdXmmbWD7jzowoegoZ7'))\n",
    "for dt in u:\n",
    "    tmp_df = data[data['created_at_date']==dt]\n",
    "    df2 = pd.DataFrame()\n",
    "    df2['json'] = tmp_df['text']\n",
    "    df2['id'] = df2.index\n",
    "    df2 = df2[['id', 'json']]\n",
    "    df2.to_csv('data/spark_format.csv',index=False)\n",
    "    spark = SparkSession.builder.appName(\"readdata\").getOrCreate()\n",
    "    df = spark.read.csv(filename, inferSchema=True, header=True)\n",
    "    df.coalesce(1).write.option(\"header\",\"true\").option(\"sep\",\"|\").mode(\"overwrite\").csv(output_file)\n",
    "    rename_csv_filenames(output_file)\n",
    "    csv_stream = dm.DataStream.from_csv(final_docs, skip=1, delimiter='|')\n",
    "    syntax_data2 = syntax_model.stream(csv_stream[1])\n",
    "    summary_model2 = watson_nlp.toolkit.NGramSummary.train(train_data=syntax_data2,\n",
    "                                                     train_params=train_params)\n",
    "    topic_model2 = watson_nlp.blocks.topics.HierarchicalClustering.train(train_data=syntax_data2, \n",
    "                                                                    summary_model=summary_model2,\n",
    "                                                                    train_params=train_params_hierarchical)\n",
    "    with open(f'data/markdown/afghan_topic_modeling_{dt}.csv.md', 'w') as f:\n",
    "        f.write(topic_model2.model.to_markdown())\n",
    "    topic_model2.save(f\"models/model_{dt}\")"
   ]
  },
  {
   "cell_type": "code",
   "execution_count": null,
   "id": "d3b9a9b8-3c0c-4df3-ac78-2f6eb3d8e9d0",
   "metadata": {},
   "outputs": [],
   "source": []
  },
  {
   "cell_type": "code",
   "execution_count": null,
   "id": "f195aac0-f0e3-40d9-8ed7-d89a968466d9",
   "metadata": {},
   "outputs": [],
   "source": []
  },
  {
   "cell_type": "code",
   "execution_count": null,
   "id": "933253b5-893b-436e-94da-3e06268064c3",
   "metadata": {},
   "outputs": [],
   "source": []
  },
  {
   "cell_type": "code",
   "execution_count": null,
   "id": "30bcd222-8d55-4456-8086-86e5641af608",
   "metadata": {},
   "outputs": [],
   "source": []
  },
  {
   "cell_type": "code",
   "execution_count": null,
   "id": "d7ee66ce-e08b-4c75-9d2c-be682620dd35",
   "metadata": {},
   "outputs": [],
   "source": []
  },
  {
   "cell_type": "code",
   "execution_count": null,
   "id": "7e655ec2-9b4b-412a-889e-c7756d76d059",
   "metadata": {},
   "outputs": [],
   "source": []
  },
  {
   "cell_type": "code",
   "execution_count": null,
   "id": "e4f8a148-fc25-428b-aced-c553a3c894dd",
   "metadata": {},
   "outputs": [],
   "source": []
  },
  {
   "cell_type": "code",
   "execution_count": null,
   "id": "7e821a58-8da9-4b44-8479-a7d8494a9bbe",
   "metadata": {},
   "outputs": [],
   "source": []
  },
  {
   "cell_type": "code",
   "execution_count": null,
   "id": "9b9149dc-8582-47c9-bfad-63ce429d2928",
   "metadata": {},
   "outputs": [],
   "source": []
  },
  {
   "cell_type": "code",
   "execution_count": null,
   "id": "1c8862b0-c8fd-4d5f-aa05-eb69780e69ae",
   "metadata": {},
   "outputs": [],
   "source": [
    "df2 = pd.DataFrame()"
   ]
  },
  {
   "cell_type": "code",
   "execution_count": null,
   "id": "0fc6a701-ea2d-433c-bca5-e34d37c15571",
   "metadata": {},
   "outputs": [],
   "source": [
    "df2['json'] = data['text']"
   ]
  },
  {
   "cell_type": "code",
   "execution_count": null,
   "id": "1e568ca2-8792-439d-a90d-0c0e3bd7b692",
   "metadata": {},
   "outputs": [],
   "source": [
    "df2['id'] = df2.index"
   ]
  },
  {
   "cell_type": "code",
   "execution_count": null,
   "id": "f88eb12e-217d-42ef-a577-5d77d8c65fe3",
   "metadata": {},
   "outputs": [],
   "source": [
    "df2 = df2[['id', 'json']]"
   ]
  },
  {
   "cell_type": "code",
   "execution_count": null,
   "id": "6162aa5e-a098-4029-9292-16206eae5c3a",
   "metadata": {},
   "outputs": [],
   "source": [
    "df2.to_csv('data/spark_format.csv',index=False)"
   ]
  },
  {
   "cell_type": "code",
   "execution_count": null,
   "id": "1ec405da-4bdd-47e9-a964-45d4aeba9c8e",
   "metadata": {},
   "outputs": [],
   "source": [
    "df2.head()"
   ]
  },
  {
   "cell_type": "code",
   "execution_count": null,
   "id": "e8ca1b77-036e-432a-a712-0cdcd2fae586",
   "metadata": {},
   "outputs": [],
   "source": [
    "# with open('creds.json') as config:\n",
    "#     creds = json.load(config)"
   ]
  },
  {
   "cell_type": "code",
   "execution_count": null,
   "id": "b45818b7-a058-442c-809e-1deba88af22d",
   "metadata": {},
   "outputs": [],
   "source": [
    "output_file = 'out.csv'"
   ]
  },
  {
   "cell_type": "code",
   "execution_count": null,
   "id": "65f74b77-7af9-43d1-acd7-d431887e279b",
   "metadata": {},
   "outputs": [],
   "source": [
    "spark = SparkSession.builder.appName(\"readdata\").getOrCreate()\n",
    "filename = \"data/spark_format.csv\"\n",
    "df = spark.read.csv(filename, inferSchema=True, header=True)"
   ]
  },
  {
   "cell_type": "code",
   "execution_count": null,
   "id": "e53c699d-d039-484e-9f8a-d32357341c4d",
   "metadata": {},
   "outputs": [],
   "source": [
    "df.coalesce(1).write.option(\"header\",\"true\").option(\"sep\",\"|\").mode(\"overwrite\").csv(output_file)"
   ]
  },
  {
   "cell_type": "code",
   "execution_count": null,
   "id": "b3d0aae5-600b-40f8-b51b-93e2b7f798c0",
   "metadata": {},
   "outputs": [],
   "source": [
    "\n",
    "def rename_csv_filenames(output_file):\n",
    "    for filepath in glob.iglob(f'{output_file}/*.csv'):\n",
    "        print(filepath)\n",
    "        os.rename(filepath ,output_file + '/' + 'docs.csv')"
   ]
  },
  {
   "cell_type": "code",
   "execution_count": null,
   "id": "7268594e-76a0-4e63-9577-025db3abe7c4",
   "metadata": {},
   "outputs": [],
   "source": [
    "rename_csv_filenames(output_file)"
   ]
  },
  {
   "cell_type": "code",
   "execution_count": null,
   "id": "64ea7ec4-541d-4979-b235-82ede644be03",
   "metadata": {},
   "outputs": [],
   "source": [
    "final_docs = 'out.csv/docs.csv'"
   ]
  },
  {
   "cell_type": "code",
   "execution_count": null,
   "id": "d39b137e-0c25-41f3-9542-f1b0c8d8f558",
   "metadata": {},
   "outputs": [],
   "source": [
    "syntax_model = watson_nlp.load(watson_nlp.download('syntax_izumo_en_stock','matthew.huntebrinker@ibm.com','AKCp8ihpbQ2esQQLh1BpaZKFAgDpieBx2UzN674kreY4jnNMLCJXW5jdXmmbWD7jzowoegoZ7'))"
   ]
  },
  {
   "cell_type": "code",
   "execution_count": null,
   "id": "91fe509c-6be4-4f50-b2a7-1d2d7977eeba",
   "metadata": {},
   "outputs": [],
   "source": [
    "csv_stream = dm.DataStream.from_csv(final_docs, skip=1, delimiter='|')"
   ]
  },
  {
   "cell_type": "code",
   "execution_count": null,
   "id": "958b32f4-9723-4190-87ac-0dfc46b281a3",
   "metadata": {},
   "outputs": [],
   "source": [
    "# for idx, row in enumerate(csv_stream):\n",
    "#     print(row)\n",
    "#     if idx == 4:\n",
    "#         break"
   ]
  },
  {
   "cell_type": "code",
   "execution_count": null,
   "id": "9417f8db-66e6-4d24-ad3d-ca3df3e06579",
   "metadata": {},
   "outputs": [],
   "source": [
    "syntax_data2 = syntax_model.stream(csv_stream[1])"
   ]
  },
  {
   "cell_type": "code",
   "execution_count": null,
   "id": "904e799a-db52-4c30-a6fd-76b8d2652d95",
   "metadata": {
    "scrolled": true,
    "tags": []
   },
   "outputs": [],
   "source": [
    "topic_model_2_prediction = topic_model2.run_batch(syntax_data2)"
   ]
  },
  {
   "cell_type": "code",
   "execution_count": null,
   "id": "d84a17f7-4934-46a3-a62d-78c1b332ef12",
   "metadata": {},
   "outputs": [],
   "source": [
    "print('done!')"
   ]
  },
  {
   "cell_type": "code",
   "execution_count": null,
   "id": "76474801-ec1a-465f-9b23-8a60de474f27",
   "metadata": {},
   "outputs": [],
   "source": [
    "print('done done')"
   ]
  },
  {
   "cell_type": "code",
   "execution_count": null,
   "id": "509d00e9-0968-439d-9fe5-4cbafe0516a7",
   "metadata": {},
   "outputs": [],
   "source": [
    "print('d')"
   ]
  },
  {
   "cell_type": "code",
   "execution_count": null,
   "id": "8fbdbac8-aaae-439c-a840-7bcef689a140",
   "metadata": {},
   "outputs": [],
   "source": [
    "print(type(topic_model_2_prediction))"
   ]
  },
  {
   "cell_type": "code",
   "execution_count": null,
   "id": "21d67ccf-b505-4f2a-89a4-1bd5b91acb42",
   "metadata": {},
   "outputs": [],
   "source": [
    "# count = 0\n",
    "# for i in syntax_data2:\n",
    "#     count+=1\n",
    "#     if count > 5:\n",
    "#         break\n",
    "#     print(i)"
   ]
  },
  {
   "cell_type": "code",
   "execution_count": null,
   "id": "ea4be69d-d742-451e-9d8e-708d16ace92a",
   "metadata": {},
   "outputs": [],
   "source": [
    "# get_topics"
   ]
  },
  {
   "cell_type": "code",
   "execution_count": null,
   "id": "8fdb43c6-71f5-4d14-9208-15c85c4d5dcf",
   "metadata": {},
   "outputs": [],
   "source": [
    "# man_words = ['to']"
   ]
  },
  {
   "cell_type": "code",
   "execution_count": null,
   "id": "c5023d05-76eb-4c3e-9edc-c3b1789f01cd",
   "metadata": {},
   "outputs": [],
   "source": [
    "train_params = {\n",
    "    'min_words_per_utterance': 10,\n",
    "    'num_turns_to_remove': 0,\n",
    "    'beginning_ratio': 1,\n",
    "    'beginning_weighting_factor': 1,\n",
    "    'min_ngram_size': 4,\n",
    "    'max_ngram_size': 12,\n",
    "    'max_ngrams': 12,\n",
    "    'stopwords': list(sw) #nltk stopwords\n",
    "}"
   ]
  },
  {
   "cell_type": "code",
   "execution_count": null,
   "id": "0cc3b609-4ad9-4767-b8f2-3db10b87c43c",
   "metadata": {},
   "outputs": [],
   "source": [
    "summary_model2 = watson_nlp.toolkit.NGramSummary.train(train_data=syntax_data2,\n",
    "                                                     train_params=train_params)\n",
    "#figure out why stopwords didn't work"
   ]
  },
  {
   "cell_type": "code",
   "execution_count": null,
   "id": "2438a35a-2d49-4125-879d-9b47cf10454a",
   "metadata": {},
   "outputs": [],
   "source": [
    "# summary_model2.model.get_stop_words()"
   ]
  },
  {
   "cell_type": "code",
   "execution_count": null,
   "id": "318380ba-7b94-45bb-b271-3f05283115ea",
   "metadata": {},
   "outputs": [],
   "source": [
    "train_params_hierarchical = {\n",
    "    'king_cluster_min_ratio': .2,\n",
    "    'min_records_per_king_cluster': 1000,\n",
    "    'num_topics_per_iteration': 10,\n",
    "    'max_num_iters_per_model': 10,\n",
    "    'min_word_support': 0.001,\n",
    "    'max_word_support': 0.7,\n",
    "    'max_ngrams_per_topic': 12,\n",
    "}"
   ]
  },
  {
   "cell_type": "code",
   "execution_count": null,
   "id": "352ac969-9150-4631-bc0b-15d32af64e09",
   "metadata": {},
   "outputs": [],
   "source": [
    "topic_model2 = watson_nlp.blocks.topics.HierarchicalClustering.train(train_data=syntax_data2, \n",
    "                                                                    summary_model=summary_model2,\n",
    "                                                                    train_params=train_params_hierarchical)"
   ]
  },
  {
   "cell_type": "code",
   "execution_count": null,
   "id": "398ac346-af40-491c-a463-ce4fe19485dc",
   "metadata": {},
   "outputs": [],
   "source": [
    "with open('data/markdown/afghan_topic_modeling12.csv.md', 'w') as f:\n",
    "    f.write(topic_model2.model.to_markdown())"
   ]
  },
  {
   "cell_type": "code",
   "execution_count": null,
   "id": "4d52ac1e-1677-49e6-a75a-e4056261240b",
   "metadata": {},
   "outputs": [],
   "source": [
    "len(topic_model2.get_topics())"
   ]
  },
  {
   "cell_type": "code",
   "execution_count": null,
   "id": "b7022446-3dd6-487f-bd78-1598245c5046",
   "metadata": {},
   "outputs": [],
   "source": [
    "s = 0\n",
    "for i in topic_model2.get_topics():\n",
    "    s += i.size\n",
    "print(s)"
   ]
  },
  {
   "cell_type": "code",
   "execution_count": null,
   "id": "a03f8dd1-88b6-4334-a717-be59dacd132f",
   "metadata": {},
   "outputs": [],
   "source": [
    "# topic_model2.get_topics()"
   ]
  },
  {
   "cell_type": "code",
   "execution_count": null,
   "id": "9e1df241-0484-4a06-b280-002cb843fb12",
   "metadata": {},
   "outputs": [],
   "source": [
    "topic_model2.save(\"models/model\")"
   ]
  },
  {
   "cell_type": "code",
   "execution_count": null,
   "id": "58b7c5d2-419b-456d-9f65-e1e99eeac301",
   "metadata": {},
   "outputs": [],
   "source": [
    "summary_model2.save(\"models/syntax.model\")"
   ]
  },
  {
   "cell_type": "code",
   "execution_count": null,
   "id": "29f07a90-df8e-45cd-bf76-1166e451c66a",
   "metadata": {},
   "outputs": [],
   "source": [
    "matt = data['text'].iloc[0]"
   ]
  },
  {
   "cell_type": "code",
   "execution_count": null,
   "id": "cb98c1ce-d4a2-469e-a748-abd0ff8db93c",
   "metadata": {},
   "outputs": [],
   "source": [
    "f = syntax_model.run(matt)"
   ]
  },
  {
   "cell_type": "code",
   "execution_count": null,
   "id": "934f9e62-1d48-448f-a707-ed1e889bfd62",
   "metadata": {
    "tags": []
   },
   "outputs": [],
   "source": [
    "fi = topic_model2.run(f)"
   ]
  },
  {
   "cell_type": "code",
   "execution_count": null,
   "id": "b9f1a240-4283-4dd7-b283-55b82764be91",
   "metadata": {},
   "outputs": [],
   "source": [
    "# for idx, row in data.iterrows():\n",
    "#     f = syntax_model.run(str(row['text']))\n",
    "#     fi = topic_model2.run(f)\n",
    "#     print(fi)\n",
    "#     if idx == 50:\n",
    "#         break"
   ]
  },
  {
   "cell_type": "code",
   "execution_count": null,
   "id": "05adc68b-1bf8-44ba-8f9c-7e351d707190",
   "metadata": {},
   "outputs": [],
   "source": [
    "topic_model2 = watson_nlp.load('models/model')"
   ]
  },
  {
   "cell_type": "code",
   "execution_count": null,
   "id": "0c8c6092-7b13-4281-8178-7bb9fb2a1b0c",
   "metadata": {},
   "outputs": [],
   "source": [
    "topic_model2.to_md()"
   ]
  },
  {
   "cell_type": "code",
   "execution_count": null,
   "id": "28f1cf6c-1886-498f-af43-7b52b7004b07",
   "metadata": {},
   "outputs": [],
   "source": [
    "len(topics)"
   ]
  },
  {
   "cell_type": "code",
   "execution_count": null,
   "id": "a65f59ae-71fc-4e06-9577-29d6f108131d",
   "metadata": {},
   "outputs": [],
   "source": [
    "len(data['text'])"
   ]
  },
  {
   "cell_type": "code",
   "execution_count": null,
   "id": "c5dc2bac-7e0e-49d2-b130-92dc53e78647",
   "metadata": {},
   "outputs": [],
   "source": [
    "data['topics'] = topics"
   ]
  },
  {
   "cell_type": "code",
   "execution_count": null,
   "id": "c2a0b87c-6b08-4694-ac56-addff33e2409",
   "metadata": {
    "scrolled": true,
    "tags": []
   },
   "outputs": [],
   "source": [
    "topics = []\n",
    "count = 0\n",
    "for x in data['text']:\n",
    "    f = syntax_model.run(x)\n",
    "    topics.append(topic_model2.run(f))\n",
    "    count += 1\n",
    "    if count % 5000 == 0:\n",
    "        print(count)"
   ]
  },
  {
   "cell_type": "code",
   "execution_count": null,
   "id": "25574257-1380-4722-9b5f-8ec89c1b0a20",
   "metadata": {},
   "outputs": [],
   "source": [
    "type(data['text'].tolist())"
   ]
  },
  {
   "cell_type": "code",
   "execution_count": null,
   "id": "1c9dcb94-b184-42e5-a0b2-6d2c6ec072bc",
   "metadata": {},
   "outputs": [],
   "source": [
    "f = syntax_model.run(data['text'].tolist())"
   ]
  },
  {
   "cell_type": "code",
   "execution_count": null,
   "id": "cfd803a3-112b-4ca5-878b-30c9cf3a6fd4",
   "metadata": {},
   "outputs": [],
   "source": []
  },
  {
   "cell_type": "code",
   "execution_count": null,
   "id": "b70d5eab-d709-4778-9725-bd984e5b5e48",
   "metadata": {},
   "outputs": [],
   "source": [
    "run_batch"
   ]
  },
  {
   "cell_type": "code",
   "execution_count": null,
   "id": "4b59e005-1992-4d56-9016-a549cc84696c",
   "metadata": {},
   "outputs": [],
   "source": [
    "data['topics'] = topics"
   ]
  },
  {
   "cell_type": "code",
   "execution_count": null,
   "id": "70c20f55-7fb6-43ab-b966-69cdc32ee8d5",
   "metadata": {},
   "outputs": [],
   "source": [
    "data.to_csv('data/topics.csv',index=False)"
   ]
  },
  {
   "cell_type": "code",
   "execution_count": null,
   "id": "70885a3c-5a97-4904-8755-26486afb392b",
   "metadata": {},
   "outputs": [],
   "source": [
    "import ast"
   ]
  },
  {
   "cell_type": "code",
   "execution_count": null,
   "id": "5d4f4ed0-f397-45c3-bbda-7befd57ac2b3",
   "metadata": {},
   "outputs": [],
   "source": [
    "data['topics'].head(50).iloc[0].topics"
   ]
  },
  {
   "cell_type": "code",
   "execution_count": null,
   "id": "90998273-9993-4f20-8141-24f56d675f3c",
   "metadata": {},
   "outputs": [],
   "source": [
    "topics_name = []\n",
    "for idx, i in enumerate(data['topics']):\n",
    "    if not i.topics:\n",
    "        topics_name.append('None')\n",
    "    elif i.topics[0].name:\n",
    "        topics_name.append(i.topics[0].name)"
   ]
  },
  {
   "cell_type": "code",
   "execution_count": null,
   "id": "fb6d57b0-f882-4e1c-b2ba-c5f49010cc9b",
   "metadata": {},
   "outputs": [],
   "source": [
    "len(topics_name)"
   ]
  },
  {
   "cell_type": "code",
   "execution_count": null,
   "id": "6692707f-df73-42d1-94e9-d9b2bcf724a6",
   "metadata": {},
   "outputs": [],
   "source": [
    "data['topics_name'] = topics_name"
   ]
  },
  {
   "cell_type": "code",
   "execution_count": null,
   "id": "cf0130f7-e9a6-49f3-bf87-f7cc89bb9e03",
   "metadata": {},
   "outputs": [],
   "source": [
    "len(topics)"
   ]
  },
  {
   "cell_type": "code",
   "execution_count": null,
   "id": "997fd493-8cba-4908-bcd9-c1a76e290473",
   "metadata": {},
   "outputs": [],
   "source": [
    "data.to_csv('data/topic_names.csv',index=False)"
   ]
  },
  {
   "cell_type": "code",
   "execution_count": null,
   "id": "175570c0-079b-4989-a7b2-73b65ac43c04",
   "metadata": {},
   "outputs": [],
   "source": [
    "data_topics = data[data['topics_name'] != 'None']"
   ]
  },
  {
   "cell_type": "code",
   "execution_count": null,
   "id": "aca34744-cc7d-4144-a144-9b6bab43f8bc",
   "metadata": {},
   "outputs": [],
   "source": [
    "list(set(data_topics['topics_name']))"
   ]
  },
  {
   "cell_type": "code",
   "execution_count": null,
   "id": "d49c0547-0d9a-4437-aa3a-cd2a9eaa7d25",
   "metadata": {},
   "outputs": [],
   "source": [
    "import json\n",
    "import pandas as pd\n",
    "from ibm_watson import NaturalLanguageUnderstandingV1\n",
    "from ibm_cloud_sdk_core.authenticators import IAMAuthenticator\n",
    "\n",
    "from ibm_watson.natural_language_understanding_v1 import Features, SentimentOptions, EmotionOptions, EntitiesOptions, KeywordsOptions\n",
    "\n",
    "authenticator = IAMAuthenticator('Jeg4w84k1cdxcmnsiTk6s8CKAWHpl5zVLBCxCpoWvE80')\n",
    "natural_language_understanding = NaturalLanguageUnderstandingV1(\n",
    "    version='2021-03-25',\n",
    "    authenticator=authenticator)\n",
    "natural_language_understanding.set_service_url('https://api.us-south.natural-language-understanding.watson.cloud.ibm.com/instances/7bd1aff3-0d4b-4ee3-974e-013c8befa581')"
   ]
  },
  {
   "cell_type": "code",
   "execution_count": null,
   "id": "25919ce9-a819-4a0a-b286-74a664a7f0eb",
   "metadata": {},
   "outputs": [],
   "source": [
    "def parse_nlu_results(text):\n",
    "    response = natural_language_understanding.analyze(\n",
    "        text=text,\n",
    "        language=\"en\",\n",
    "        features=Features(sentiment=SentimentOptions(), emotion=EmotionOptions(), \n",
    "                          entities=EntitiesOptions(emotion=True, sentiment=True),\n",
    "                          keywords=KeywordsOptions(emotion=True, sentiment=True),\n",
    "                         )).get_result()\n",
    "    \n",
    "    # seentiment\n",
    "    try:\n",
    "        score = response.get('sentiment').get(\"document\").get(\"score\")\n",
    "        label = response.get('sentiment').get(\"document\").get(\"label\")\n",
    "    except:\n",
    "        score = \"\"\n",
    "        label = \"\"\n",
    "    \n",
    "    # emotions\n",
    "    try:\n",
    "        sadness = response.get(\"emotion\").get(\"document\").get(\"emotion\").get(\"sadness\")\n",
    "        joy = response.get(\"emotion\").get(\"document\").get(\"emotion\").get(\"joy\")\n",
    "        fear = response.get(\"emotion\").get(\"document\").get(\"emotion\").get(\"fear\")\n",
    "        anger = response.get(\"emotion\").get(\"document\").get(\"emotion\").get(\"anger\")\n",
    "        disgust = response.get(\"emotion\").get(\"document\").get(\"emotion\").get(\"disgust\")\n",
    "    except:\n",
    "        sadness = \"\"\n",
    "        joy = \"\"\n",
    "        fear = \"\"\n",
    "        anger = \"\"\n",
    "        disgust = \"\"\n",
    "    \n",
    "    # keywords\n",
    "    try:\n",
    "        keywords = response.get(\"keywords\")\n",
    "    except:\n",
    "        keywords = \"\"\n",
    "    \n",
    "    # entities\n",
    "    try:\n",
    "        entities = response.get(\"entities\")\n",
    "    except:\n",
    "        entities = \"\"\n",
    "    \n",
    "    return score, label, sadness, joy, fear, anger, disgust, keywords, entities"
   ]
  },
  {
   "cell_type": "code",
   "execution_count": null,
   "id": "82981844-4ff0-4fc7-ac86-cfb4e9bc9145",
   "metadata": {},
   "outputs": [],
   "source": [
    "nlu_results = []\n",
    "\n",
    "for idx, x in enumerate(data['text']):\n",
    "    score, label, sadness, joy, fear, anger, disgust, keywords, entities = parse_nlu_results(x)\n",
    "    nlu_results.append((score, label, sadness, joy, fear, anger, disgust, keywords, entities))\n",
    "    if idx % 2000 == 0:\n",
    "        print(idx)"
   ]
  },
  {
   "cell_type": "code",
   "execution_count": null,
   "id": "503dd657-0f83-4128-a0d6-5c8d8cae7e71",
   "metadata": {},
   "outputs": [],
   "source": []
  }
 ],
 "metadata": {
  "kernelspec": {
   "display_name": "Python 3",
   "language": "python",
   "name": "python3"
  },
  "language_info": {
   "codemirror_mode": {
    "name": "ipython",
    "version": 3
   },
   "file_extension": ".py",
   "mimetype": "text/x-python",
   "name": "python",
   "nbconvert_exporter": "python",
   "pygments_lexer": "ipython3",
   "version": "3.8.8"
  }
 },
 "nbformat": 4,
 "nbformat_minor": 5
}
